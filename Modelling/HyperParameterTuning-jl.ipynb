{
 "cells": [
  {
   "cell_type": "code",
   "execution_count": 1,
   "metadata": {},
   "outputs": [],
   "source": [
    "using Dates\n",
    "using MarketData\n",
    "using StatsBase\n",
    "using Plots\n",
    "using DataFrames\n",
    "using Statistics\n",
    "using MarketTechnicals\n",
    "using Lathe\n",
    "using TimeSeries\n",
    "using MLJ,MLJBase"
   ]
  },
  {
   "cell_type": "code",
   "execution_count": 14,
   "metadata": {},
   "outputs": [],
   "source": [
    "\n",
    "include(\"HyperParameterTuning.jl\")"
   ]
  },
  {
   "cell_type": "code",
   "execution_count": 3,
   "metadata": {},
   "outputs": [
    {
     "data": {
      "text/plain": [
       "281×1 TimeArray{Date, 1, Date, Vector{Date}} 2021-02-24 to 2021-12-01\n",
       "│            │ endTime            │\n",
       "├────────────┼────────────────────┤\n",
       "│ 2021-02-24 │ Date(\"2021-02-25\") │\n",
       "│ 2021-02-25 │ Date(\"2021-02-26\") │\n",
       "│ 2021-02-26 │ Date(\"2021-02-27\") │\n",
       "│ 2021-02-27 │ Date(\"2021-02-28\") │\n",
       "│ 2021-02-28 │ Date(\"2021-03-01\") │\n",
       "│ 2021-03-01 │ Date(\"2021-03-02\") │\n",
       "│ 2021-03-02 │ Date(\"2021-03-03\") │\n",
       "│ 2021-03-03 │ Date(\"2021-03-04\") │\n",
       "│ 2021-03-04 │ Date(\"2021-03-05\") │\n",
       "│ 2021-03-05 │ Date(\"2021-03-06\") │\n",
       "│ 2021-03-06 │ Date(\"2021-03-07\") │\n",
       "│ 2021-03-07 │ Date(\"2021-03-08\") │\n",
       "   ⋮\n",
       "│ 2021-11-21 │ Date(\"2021-11-22\") │\n",
       "│ 2021-11-22 │ Date(\"2021-11-23\") │\n",
       "│ 2021-11-23 │ Date(\"2021-11-24\") │\n",
       "│ 2021-11-24 │ Date(\"2021-11-25\") │\n",
       "│ 2021-11-25 │ Date(\"2021-11-26\") │\n",
       "│ 2021-11-26 │ Date(\"2021-11-27\") │\n",
       "│ 2021-11-27 │ Date(\"2021-11-28\") │\n",
       "│ 2021-11-28 │ Date(\"2021-11-29\") │\n",
       "│ 2021-11-29 │ Date(\"2021-11-30\") │\n",
       "│ 2021-11-30 │ Date(\"2021-12-01\") │\n",
       "│ 2021-12-01 │ Date(\"2021-12-02\") │"
      ]
     },
     "execution_count": 3,
     "metadata": {},
     "output_type": "execute_result"
    }
   ],
   "source": [
    "btc = yahoo(\"BTC-USD\", YahooOpt(period1 = DateTime(2021, 1, 1), period2 = DateTime(2021, 12, 1)))[\"Close\"]\n",
    "btc_df = DataFrame(btc[55:end])\n",
    "btc_df[!, \"Expected 55\"] = ema(values(btc), 55)[1:end]\n",
    "btc_df[!, \"Expected 15\"] = ema(values(btc), 15)[55 - 15 + 1: end]\n",
    "btc_df[!, :Cross] .= 0\n",
    "btc_df[!, :Cross] = ifelse.(btc_df[:, \"Expected 55\"] .< btc_df[:, \"Expected 15\"], 1, 0)\n",
    "btc_ts = TimeArray(btc_df, timestamp = :timestamp)\n",
    "targetPositions = string.(btc_ts.Cross) # labels\n",
    "data = btc_ts[:Close, Symbol(\"Expected 55\"), Symbol(\"Expected 15\")]\n",
    "times = TimeArray(DataFrame(startTime = timestamp(btc_ts), endTime = append!(timestamp(btc_ts)[2:end], [timestamp(btc_ts)[end] + (timestamp(btc_ts)[2]-timestamp(btc_ts)[1])])), timestamp = :startTime)\n",
    "#train_index, test_index = Lathe.preprocess.UniformSplit(collect(1:length(btc_ts)))"
   ]
  },
  {
   "cell_type": "code",
   "execution_count": 4,
   "metadata": {},
   "outputs": [
    {
     "data": {
      "text/plain": [
       "PurgedKFold(\n",
       "    nSplits = 5,\n",
       "    times = 281×1 TimeArray{Date, 1, Date, Vector{Date}} 2021-02-24 to 2021-12-01,\n",
       "    percentEmbargo = 0.05)\u001b[34m @247\u001b[39m"
      ]
     },
     "execution_count": 4,
     "metadata": {},
     "output_type": "execute_result"
    }
   ],
   "source": [
    "purgedKFold = PurgedKFold(5, times, 0.05)"
   ]
  },
  {
   "cell_type": "code",
   "execution_count": 5,
   "metadata": {},
   "outputs": [
    {
     "data": {
      "text/plain": [
       "DecisionTreeClassifier(\n",
       "    max_depth = -1,\n",
       "    min_samples_leaf = 1,\n",
       "    min_samples_split = 2,\n",
       "    min_purity_increase = 0.0,\n",
       "    n_subfeatures = 0,\n",
       "    post_prune = false,\n",
       "    merge_purity_threshold = 1.0,\n",
       "    pdf_smoothing = 0.0,\n",
       "    display_depth = 5,\n",
       "    rng = Random._GLOBAL_RNG())\u001b[34m @000\u001b[39m"
      ]
     },
     "execution_count": 5,
     "metadata": {},
     "output_type": "execute_result"
    }
   ],
   "source": [
    "@load DecisionTreeClassifier\n",
    "tree = DecisionTreeClassifier()"
   ]
  },
  {
   "cell_type": "code",
   "execution_count": 7,
   "metadata": {},
   "outputs": [
    {
     "name": "stderr",
     "output_type": "stream",
     "text": [
      "┌ Info: No measure specified. Setting measure=\u001b[34mCrossEntropy{Float64} @141\u001b[39m. \n",
      "└ @ MLJTuning C:\\Users\\Ahmad\\.julia\\packages\\MLJTuning\\6MZ7C\\src\\tuned_models.jl:222\n"
     ]
    }
   ],
   "source": [
    "r = range(tree, :min_purity_increase, lower=0.001, upper=1.0, scale=:log);\n",
    "self_tuning_tree = TunedModel(model=tree,\n",
    "\t\t\t\t\t\t\t  resampling=purgedKFold,\n",
    "\t\t\t\t\t\t\t  tuning=Grid(resolution=10),\n",
    "\t\t\t\t\t\t\t  range=r,\n",
    "\t\t\t\t\t\t\t  measure=nothing);"
   ]
  },
  {
   "cell_type": "code",
   "execution_count": 8,
   "metadata": {},
   "outputs": [
    {
     "data": {
      "text/plain": [
       "ProbabilisticTunedModel(\n",
       "    model = DecisionTreeClassifier(\n",
       "            max_depth = -1,\n",
       "            min_samples_leaf = 1,\n",
       "            min_samples_split = 2,\n",
       "            min_purity_increase = 0.0,\n",
       "            n_subfeatures = 0,\n",
       "            post_prune = false,\n",
       "            merge_purity_threshold = 1.0,\n",
       "            pdf_smoothing = 0.0,\n",
       "            display_depth = 5,\n",
       "            rng = Random._GLOBAL_RNG()),\n",
       "    tuning = Grid(\n",
       "            goal = nothing,\n",
       "            resolution = 10,\n",
       "            shuffle = true,\n",
       "            rng = Random._GLOBAL_RNG()),\n",
       "    resampling = PurgedKFold(\n",
       "            nSplits = 5,\n",
       "            times = 281×1 TimeArray{Date, 1, Date, Vector{Date}} 2021-02-24 to 2021-12-01,\n",
       "            percentEmbargo = 0.05),\n",
       "    measure = cross_entropy(\n",
       "            eps = 2.220446049250313e-16),\n",
       "    weights = nothing,\n",
       "    operation = MLJModelInterface.predict,\n",
       "    range = NumericRange(\n",
       "            field = :min_purity_increase,\n",
       "            lower = 0.001,\n",
       "            upper = 1.0,\n",
       "            origin = 0.5005,\n",
       "            unit = 0.4995,\n",
       "            scale = :log),\n",
       "    selection_heuristic = MLJTuning.NaiveSelection(nothing),\n",
       "    train_best = true,\n",
       "    repeats = 1,\n",
       "    n = nothing,\n",
       "    acceleration = CPU1{Nothing}(nothing),\n",
       "    acceleration_resampling = CPU1{Nothing}(nothing),\n",
       "    check_measure = true)\u001b[34m @916\u001b[39m"
      ]
     },
     "execution_count": 8,
     "metadata": {},
     "output_type": "execute_result"
    }
   ],
   "source": [
    "self_tuning_tree "
   ]
  },
  {
   "cell_type": "code",
   "execution_count": 9,
   "metadata": {},
   "outputs": [
    {
     "data": {
      "text/plain": [
       "(CategoricalValue{String, UInt32}[\"1.0\", \"1.0\", \"1.0\", \"1.0\", \"1.0\", \"1.0\", \"1.0\", \"1.0\", \"1.0\", \"1.0\"  …  \"1.0\", \"1.0\", \"1.0\", \"1.0\", \"1.0\", \"1.0\", \"1.0\", \"1.0\", \"0.0\", \"0.0\"], 281×3 DataFrame\n",
       "│ Row │ Close   │ Expected 55  │ Expected 15  │\n",
       "│     │ \u001b[90mFloat64\u001b[39m │ \u001b[90mFloat64\u001b[39m │ \u001b[90mFloat64\u001b[39m │\n",
       "├─────┼─────────┼─────────┼─────────┤\n",
       "│ 1   │ 49705.3 │ 39808.0 │ 49887.1 │\n",
       "│ 2   │ 47093.9 │ 40068.2 │ 49537.9 │\n",
       "│ 3   │ 46339.8 │ 40292.2 │ 49138.1 │\n",
       "│ 4   │ 46188.5 │ 40502.8 │ 48769.4 │\n",
       "│ 5   │ 45137.8 │ 40668.3 │ 48315.5 │\n",
       "│ 6   │ 49631.2 │ 40988.4 │ 48479.9 │\n",
       "│ 7   │ 48379.0 │ 41252.4 │ 48467.3 │\n",
       "│ 8   │ 50538.2 │ 41584.0 │ 48726.2 │\n",
       "│ 9   │ 48561.2 │ 41833.2 │ 48705.6 │\n",
       "│ 10  │ 48927.3 │ 42086.6 │ 48733.3 │\n",
       "⋮\n",
       "│ 271 │ 58730.5 │ 58529.9 │ 61110.6 │\n",
       "│ 272 │ 56289.3 │ 58449.8 │ 60507.9 │\n",
       "│ 273 │ 57569.1 │ 58418.4 │ 60140.5 │\n",
       "│ 274 │ 56280.4 │ 58342.0 │ 59658.0 │\n",
       "│ 275 │ 57274.7 │ 58303.9 │ 59360.1 │\n",
       "│ 276 │ 53569.8 │ 58134.8 │ 58636.3 │\n",
       "│ 277 │ 54815.1 │ 58016.3 │ 58158.7 │\n",
       "│ 278 │ 57248.5 │ 57988.8 │ 58044.9 │\n",
       "│ 279 │ 57806.6 │ 57982.3 │ 58015.1 │\n",
       "│ 280 │ 57005.4 │ 57947.4 │ 57888.9 │\n",
       "│ 281 │ 57229.8 │ 57921.8 │ 57806.5 │)"
      ]
     },
     "execution_count": 9,
     "metadata": {},
     "output_type": "execute_result"
    }
   ],
   "source": [
    "labels = targetPositions\n",
    "name = colnames(labels)[1] # labels name\n",
    "data, labels = DataFrame(data), DataFrame(labels) # convert timearrays to dataframe\n",
    "select!(data, Not(:timestamp)) # remove timestamp\n",
    "select!(labels, Not(:timestamp)) # remove timestamp\n",
    "\n",
    "sample = hcat(data, labels) # merge entire data \n",
    "for column ∈ names(sample)\n",
    "    if eltype(sample[!, column]) == Float64 || eltype(sample[!, column]) == Int # check scitypes\n",
    "        sample = coerce(sample, Symbol(column) => Continuous) # change scitypes\n",
    "    else\n",
    "        sample = coerce(sample, Symbol(column) => Multiclass) # change scitypes\n",
    "    end    \n",
    "end\n",
    "labels, data = unpack(sample, ==(name), colname -> true) # unpack data\n"
   ]
  },
  {
   "cell_type": "code",
   "execution_count": 16,
   "metadata": {},
   "outputs": [
    {
     "data": {
      "text/plain": [
       "\u001b[34mMachine{ProbabilisticTunedModel{Grid,…}} @159\u001b[39m trained 1 time.\n",
       "  args: \n",
       "    1:\t\u001b[34mSource @660\u001b[39m ⏎ `Table{AbstractVector{Continuous}}`\n",
       "    2:\t\u001b[34mSource @247\u001b[39m ⏎ `AbstractVector{Multiclass{2}}`\n"
      ]
     },
     "execution_count": 16,
     "metadata": {},
     "output_type": "execute_result"
    }
   ],
   "source": [
    "mach = machine(self_tuning_tree, data, labels);\n",
    "fit!(mach, verbosity=0)"
   ]
  },
  {
   "cell_type": "code",
   "execution_count": 17,
   "metadata": {},
   "outputs": [
    {
     "data": {
      "text/plain": [
       "DecisionTreeClassifier(\n",
       "    max_depth = -1,\n",
       "    min_samples_leaf = 1,\n",
       "    min_samples_split = 2,\n",
       "    min_purity_increase = 1.0,\n",
       "    n_subfeatures = 0,\n",
       "    post_prune = false,\n",
       "    merge_purity_threshold = 1.0,\n",
       "    pdf_smoothing = 0.0,\n",
       "    display_depth = 5,\n",
       "    rng = Random._GLOBAL_RNG())\u001b[34m @074\u001b[39m"
      ]
     },
     "execution_count": 17,
     "metadata": {},
     "output_type": "execute_result"
    }
   ],
   "source": [
    "fitted_params(mach).best_model"
   ]
  }
 ],
 "metadata": {
  "kernelspec": {
   "display_name": "Julia 1.7.2",
   "language": "julia",
   "name": "julia-1.7"
  },
  "language_info": {
   "file_extension": ".jl",
   "mimetype": "application/julia",
   "name": "julia",
   "version": "1.7.2"
  },
  "orig_nbformat": 4
 },
 "nbformat": 4,
 "nbformat_minor": 2
}
